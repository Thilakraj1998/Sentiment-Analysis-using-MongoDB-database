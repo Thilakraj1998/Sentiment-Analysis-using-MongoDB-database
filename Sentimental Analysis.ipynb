{
 "cells": [
  {
   "cell_type": "markdown",
   "metadata": {},
   "source": [
    "# Packages"
   ]
  },
  {
   "cell_type": "code",
   "execution_count": 42,
   "metadata": {},
   "outputs": [],
   "source": [
    "#required packages\n",
    "import pandas as pd\n",
    "import plotly.express as px\n",
    "from textblob import TextBlob\n",
    "import matplotlib.pyplot as plt\n",
    "import numpy as np"
   ]
  },
  {
   "cell_type": "markdown",
   "metadata": {},
   "source": [
    "# reading data from csv file"
   ]
  },
  {
   "cell_type": "code",
   "execution_count": 36,
   "metadata": {},
   "outputs": [],
   "source": [
    "#reading file\n",
    "df=pd.read_csv(\"./data/Sentiment.csv\",sep=',')"
   ]
  },
  {
   "cell_type": "code",
   "execution_count": 37,
   "metadata": {},
   "outputs": [
    {
     "name": "stdout",
     "output_type": "stream",
     "text": [
      "<class 'pandas.core.frame.DataFrame'>\n",
      "RangeIndex: 10 entries, 0 to 9\n",
      "Data columns (total 5 columns):\n",
      " #   Column     Non-Null Count  Dtype  \n",
      "---  ------     --------------  -----  \n",
      " 0   Code       10 non-null     object \n",
      " 1   Fac_ID     10 non-null     object \n",
      " 2   studentID  10 non-null     object \n",
      " 3   Rating     10 non-null     float64\n",
      " 4   feedBack   10 non-null     object \n",
      "dtypes: float64(1), object(4)\n",
      "memory usage: 528.0+ bytes\n"
     ]
    }
   ],
   "source": [
    "df.info()#getting details related to data"
   ]
  },
  {
   "cell_type": "markdown",
   "metadata": {},
   "source": [
    "# Data Visualization of Sentimental Analysis using plotly"
   ]
  },
  {
   "cell_type": "code",
   "execution_count": 71,
   "metadata": {},
   "outputs": [],
   "source": [
    "#function for overall rating and rating distribution\n",
    "def rating_des(df,Fac_id):\n",
    "    ovrlr=pd.DataFrame(df.loc[df['Fac_ID']==Fac_id,'Rating'].value_counts())\n",
    "    ovrlr=ovrlr.reset_index()\n",
    "    ovrlr.columns=['rate','count']\n",
    "    fig = plt.bar(ovrlr['rate'],ovrlr['count'],color=['red','green','blue','yellow'])\n",
    "    return fig\n",
    "    \n",
    "def overall_rating(df,Fac_id='AG123'):\n",
    "    ovr=df.loc[df['Fac_ID']==Fac_id,'Rating'].mean()\n",
    "    return round(ovr,2)"
   ]
  },
  {
   "cell_type": "code",
   "execution_count": 70,
   "metadata": {},
   "outputs": [],
   "source": [
    "# function for sentimental analysis\n",
    "def senti(df,Fac_id):\n",
    "    data=df\n",
    "    po,nu,ne=0,0,0\n",
    "    df1=data[data['Fac_ID']==Fac_id]\n",
    "    for i in range(len(df1)):\n",
    "        if TextBlob(df1.iloc[i, 4]).sentiment.polarity==0:\n",
    "            nu+=1\n",
    "        elif TextBlob(df1.iloc[i,4]).sentiment.polarity>0:\n",
    "            po+=1\n",
    "        else:\n",
    "            ne+=1\n",
    "    result=pd.DataFrame({\"score\":[po,ne,nu],\"polarity\":[\"positive\",\"negative\",\"neutral\"]})\n",
    "    fig = plt.bar(result['polarity'], result['score'], color=['green', 'red', 'blue'])\n",
    "    return fig\n",
    "\n",
    "def overall_senti(df,Fac_id='AG123'):\n",
    "    df1=df[df['Fac_ID']==Fac_id]\n",
    "    for i in range(len(df1)):\n",
    "        overall=df1.iloc[i,4]+\",\"\n",
    "    if TextBlob(overall).sentiment.polarity==0:\n",
    "        return \"neutral\"\n",
    "    elif TextBlob(df1.iloc[i,4]).sentiment.polarity>0:\n",
    "        return 'positive'\n",
    "    else:\n",
    "        return 'negative'"
   ]
  },
  {
   "cell_type": "markdown",
   "metadata": {},
   "source": [
    "# Outputs"
   ]
  },
  {
   "cell_type": "code",
   "execution_count": 6,
   "metadata": {},
   "outputs": [
    {
     "data": {
      "text/plain": [
       "3.83"
      ]
     },
     "execution_count": 6,
     "metadata": {},
     "output_type": "execute_result"
    }
   ],
   "source": [
    "#getting overall rating for a faculty\n",
    "overall_rating(df,\"AG123\")"
   ]
  },
  {
   "cell_type": "code",
   "execution_count": 7,
   "metadata": {},
   "outputs": [
    {
     "data": {
      "text/plain": [
       "'negative'"
      ]
     },
     "execution_count": 7,
     "metadata": {},
     "output_type": "execute_result"
    }
   ],
   "source": [
    "#getting overall sentimental polarity for a faculty\n",
    "overall_senti(df,\"AG123\")"
   ]
  },
  {
   "cell_type": "markdown",
   "metadata": {},
   "source": [
    "# Bar plots using plotly package"
   ]
  },
  {
   "cell_type": "code",
   "execution_count": 31,
   "metadata": {},
   "outputs": [
    {
     "data": {
      "text/plain": [
       "<matplotlib.axes._subplots.AxesSubplot at 0x1eeba3fdcd0>"
      ]
     },
     "execution_count": 31,
     "metadata": {},
     "output_type": "execute_result"
    },
    {
     "data": {
      "image/png": "[encoded data removed]",
      "text/plain": [
       "<Figure size 1152x432 with 1 Axes>"
      ]
     },
     "metadata": {
      "needs_background": "light"
     },
     "output_type": "display_data"
    }
   ],
   "source": [
    "# Faculty distribution in dataset\n",
    "df['Fac_ID'].value_counts().plot(kind=\"bar\",figsize=(16,6))"
   ]
  },
  {
   "cell_type": "code",
   "execution_count": 62,
   "metadata": {},
   "outputs": [
    {
     "data": {
      "image/png": "[encoded data removed]",
      "text/plain": [
       "<Figure size 432x288 with 1 Axes>"
      ]
     },
     "metadata": {
      "needs_background": "light"
     },
     "output_type": "display_data"
    }
   ],
   "source": [
    "#getting polarity distribution\n",
    "fig=senti(df,\"AG123\")"
   ]
  },
  {
   "cell_type": "code",
   "execution_count": 72,
   "metadata": {},
   "outputs": [
    {
     "data": {
      "image/png": "[encoded data removed]",
      "text/plain": [
       "<Figure size 432x288 with 1 Axes>"
      ]
     },
     "metadata": {
      "needs_background": "light"
     },
     "output_type": "display_data"
    }
   ],
   "source": [
    "#getting rating distribution\n",
    "fig1=rating_des(df,\"AG123\")"
   ]
  },
  {
   "cell_type": "markdown",
   "metadata": {},
   "source": [
    "# using base plot to plot pie chart"
   ]
  },
  {
   "cell_type": "code",
   "execution_count": 33,
   "metadata": {},
   "outputs": [
    {
     "data": {
      "text/plain": [
       "<matplotlib.axes._subplots.AxesSubplot at 0x1eeba573a90>"
      ]
     },
     "execution_count": 33,
     "metadata": {},
     "output_type": "execute_result"
    },
    {
     "data": {
      "image/png": "[encoded data removed]",
      "text/plain": [
       "<Figure size 1368x432 with 1 Axes>"
      ]
     },
     "metadata": {},
     "output_type": "display_data"
    }
   ],
   "source": [
    "#piechart for rating destribution using base ploting method\n",
    "df.loc[df['Fac_ID']==\"AG123\",'Rating'].value_counts().plot(kind=\"pie\",figsize=(19,6))"
   ]
  }
 ],
 "metadata": {
  "kernelspec": {
   "display_name": "Python 3",
   "language": "python",
   "name": "python3"
  },
  "language_info": {
   "codemirror_mode": {
    "name": "ipython",
    "version": 3
   },
   "file_extension": ".py",
   "mimetype": "text/x-python",
   "name": "python",
   "nbconvert_exporter": "python",
   "pygments_lexer": "ipython3",
   "version": "3.8.3"
  }
 },
 "nbformat": 4,
 "nbformat_minor": 4
}
